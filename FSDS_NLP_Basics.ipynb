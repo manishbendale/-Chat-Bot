{
  "nbformat": 4,
  "nbformat_minor": 0,
  "metadata": {
    "colab": {
      "provenance": [],
      "include_colab_link": true
    },
    "kernelspec": {
      "name": "python3",
      "display_name": "Python 3"
    },
    "language_info": {
      "name": "python"
    }
  },
  "cells": [
    {
      "cell_type": "markdown",
      "metadata": {
        "id": "view-in-github",
        "colab_type": "text"
      },
      "source": [
        "<a href=\"https://colab.research.google.com/github/manishbendale/-Chat-Bot/blob/main/FSDS_NLP_Basics.ipynb\" target=\"_parent\"><img src=\"https://colab.research.google.com/assets/colab-badge.svg\" alt=\"Open In Colab\"/></a>"
      ]
    },
    {
      "cell_type": "markdown",
      "source": [
        "#NLP BASICS"
      ],
      "metadata": {
        "id": "RHGVVOZOyROD"
      }
    },
    {
      "cell_type": "markdown",
      "source": [
        "#**Tokenization**"
      ],
      "metadata": {
        "id": "sT4id5pE54vH"
      }
    },
    {
      "cell_type": "markdown",
      "source": [
        "**Document.**\n",
        "\n",
        "We’ll be using a text narrated by Steve Jobs in the “Think Different” Apple commercial."
      ],
      "metadata": {
        "id": "SqBFpQNd6QZY"
      }
    },
    {
      "cell_type": "code",
      "execution_count": null,
      "metadata": {
        "id": "BjbNGAhW5i2n"
      },
      "outputs": [],
      "source": [
        "text = \"\"\"Here’s to the crazy ones, the misfits, the rebels, the troublemakers, \n",
        "the round pegs in the square holes. The ones who see things differently — they’re not fond of \n",
        "rules. You can quote them, disagree with them, glorify\n",
        "or vilify them, but the only thing you can’t do is ignore them because they\n",
        "change things. They push the human race forward, and while some may see them\n",
        "as the crazy ones, we see genius, because the ones who are crazy enough to think\n",
        "that they can change the world, are the ones who do.\"\"\""
      ]
    },
    {
      "cell_type": "markdown",
      "source": [
        "###1. Simple tokenization with .split"
      ],
      "metadata": {
        "id": "C18LOIYs6ISJ"
      }
    },
    {
      "cell_type": "code",
      "source": [
        "\n",
        "# word tokenization\n",
        "text.split()\n",
        "# sentence tokenizer\n",
        "# text.split('.') #splitting sentence by sentence"
      ],
      "metadata": {
        "id": "zXrWItKH584F",
        "colab": {
          "base_uri": "https://localhost:8080/"
        },
        "outputId": "431c010c-0ec7-4628-b317-af662ce1f975"
      },
      "execution_count": null,
      "outputs": [
        {
          "output_type": "execute_result",
          "data": {
            "text/plain": [
              "['Here’s',\n",
              " 'to',\n",
              " 'the',\n",
              " 'crazy',\n",
              " 'ones,',\n",
              " 'the',\n",
              " 'misfits,',\n",
              " 'the',\n",
              " 'rebels,',\n",
              " 'the',\n",
              " 'troublemakers,',\n",
              " 'the',\n",
              " 'round',\n",
              " 'pegs',\n",
              " 'in',\n",
              " 'the',\n",
              " 'square',\n",
              " 'holes.',\n",
              " 'The',\n",
              " 'ones',\n",
              " 'who',\n",
              " 'see',\n",
              " 'things',\n",
              " 'differently',\n",
              " '—',\n",
              " 'they’re',\n",
              " 'not',\n",
              " 'fond',\n",
              " 'of',\n",
              " 'rules.',\n",
              " 'You',\n",
              " 'can',\n",
              " 'quote',\n",
              " 'them,',\n",
              " 'disagree',\n",
              " 'with',\n",
              " 'them,',\n",
              " 'glorify',\n",
              " 'or',\n",
              " 'vilify',\n",
              " 'them,',\n",
              " 'but',\n",
              " 'the',\n",
              " 'only',\n",
              " 'thing',\n",
              " 'you',\n",
              " 'can’t',\n",
              " 'do',\n",
              " 'is',\n",
              " 'ignore',\n",
              " 'them',\n",
              " 'because',\n",
              " 'they',\n",
              " 'change',\n",
              " 'things.',\n",
              " 'They',\n",
              " 'push',\n",
              " 'the',\n",
              " 'human',\n",
              " 'race',\n",
              " 'forward,',\n",
              " 'and',\n",
              " 'while',\n",
              " 'some',\n",
              " 'may',\n",
              " 'see',\n",
              " 'them',\n",
              " 'as',\n",
              " 'the',\n",
              " 'crazy',\n",
              " 'ones,',\n",
              " 'we',\n",
              " 'see',\n",
              " 'genius,',\n",
              " 'because',\n",
              " 'the',\n",
              " 'ones',\n",
              " 'who',\n",
              " 'are',\n",
              " 'crazy',\n",
              " 'enough',\n",
              " 'to',\n",
              " 'think',\n",
              " 'that',\n",
              " 'they',\n",
              " 'can',\n",
              " 'change',\n",
              " 'the',\n",
              " 'world,',\n",
              " 'are',\n",
              " 'the',\n",
              " 'ones',\n",
              " 'who',\n",
              " 'do.']"
            ]
          },
          "metadata": {},
          "execution_count": 64
        }
      ]
    },
    {
      "cell_type": "code",
      "source": [],
      "metadata": {
        "id": "ptxtLoOV6YuC"
      },
      "execution_count": null,
      "outputs": []
    },
    {
      "cell_type": "markdown",
      "source": [
        "## 2. Tokenization with **NLTK**"
      ],
      "metadata": {
        "id": "30AWrW8A7ZkQ"
      }
    },
    {
      "cell_type": "markdown",
      "source": [
        "NLTK stands for Natural Language Toolkit. This is a suite of libraries and programs for statistical natural language processing for English written in Python.\n",
        "\n",
        "NLTK contains a module called ***tokenize*** with a ***word_tokenize()*** method that will help us split a text into tokens. Once you installed NLTK, you can write the following code to tokenize text."
      ],
      "metadata": {
        "id": "u-GNJx0t7qui"
      }
    },
    {
      "cell_type": "markdown",
      "source": [
        "It even considers punctuation as a token"
      ],
      "metadata": {
        "id": "Xxfrnm878qS-"
      }
    },
    {
      "cell_type": "code",
      "source": [
        "!pip install nltk"
      ],
      "metadata": {
        "id": "44mEG5Du8Hca",
        "colab": {
          "base_uri": "https://localhost:8080/"
        },
        "outputId": "18ff9bbf-8060-4502-c27f-2f83918299e4"
      },
      "execution_count": null,
      "outputs": [
        {
          "output_type": "stream",
          "name": "stdout",
          "text": [
            "Requirement already satisfied: nltk in /usr/local/lib/python3.7/dist-packages (3.2.5)\n",
            "Requirement already satisfied: six in /usr/local/lib/python3.7/dist-packages (from nltk) (1.15.0)\n"
          ]
        }
      ]
    },
    {
      "cell_type": "code",
      "source": [
        "import nltk\n",
        "nltk.download('punkt')\n",
        "from nltk.tokenize import word_tokenize\n",
        "\n",
        "word_tokenize(text)\n",
        "# sntence tokenizer\n",
        "# from nltk.tokenize import sent_tokenize\n",
        "# sent_tokenize(text)"
      ],
      "metadata": {
        "id": "AYm9tEK47dYY",
        "colab": {
          "base_uri": "https://localhost:8080/"
        },
        "outputId": "6ef77730-72fe-42ba-9eac-6146fec0f0f7"
      },
      "execution_count": null,
      "outputs": [
        {
          "output_type": "stream",
          "name": "stdout",
          "text": [
            "[nltk_data] Downloading package punkt to /root/nltk_data...\n",
            "[nltk_data]   Package punkt is already up-to-date!\n"
          ]
        },
        {
          "output_type": "execute_result",
          "data": {
            "text/plain": [
              "['Here',\n",
              " '’',\n",
              " 's',\n",
              " 'to',\n",
              " 'the',\n",
              " 'crazy',\n",
              " 'ones',\n",
              " ',',\n",
              " 'the',\n",
              " 'misfits',\n",
              " ',',\n",
              " 'the',\n",
              " 'rebels',\n",
              " ',',\n",
              " 'the',\n",
              " 'troublemakers',\n",
              " ',',\n",
              " 'the',\n",
              " 'round',\n",
              " 'pegs',\n",
              " 'in',\n",
              " 'the',\n",
              " 'square',\n",
              " 'holes',\n",
              " '.',\n",
              " 'The',\n",
              " 'ones',\n",
              " 'who',\n",
              " 'see',\n",
              " 'things',\n",
              " 'differently',\n",
              " '—',\n",
              " 'they',\n",
              " '’',\n",
              " 're',\n",
              " 'not',\n",
              " 'fond',\n",
              " 'of',\n",
              " 'rules',\n",
              " '.',\n",
              " 'You',\n",
              " 'can',\n",
              " 'quote',\n",
              " 'them',\n",
              " ',',\n",
              " 'disagree',\n",
              " 'with',\n",
              " 'them',\n",
              " ',',\n",
              " 'glorify',\n",
              " 'or',\n",
              " 'vilify',\n",
              " 'them',\n",
              " ',',\n",
              " 'but',\n",
              " 'the',\n",
              " 'only',\n",
              " 'thing',\n",
              " 'you',\n",
              " 'can',\n",
              " '’',\n",
              " 't',\n",
              " 'do',\n",
              " 'is',\n",
              " 'ignore',\n",
              " 'them',\n",
              " 'because',\n",
              " 'they',\n",
              " 'change',\n",
              " 'things',\n",
              " '.',\n",
              " 'They',\n",
              " 'push',\n",
              " 'the',\n",
              " 'human',\n",
              " 'race',\n",
              " 'forward',\n",
              " ',',\n",
              " 'and',\n",
              " 'while',\n",
              " 'some',\n",
              " 'may',\n",
              " 'see',\n",
              " 'them',\n",
              " 'as',\n",
              " 'the',\n",
              " 'crazy',\n",
              " 'ones',\n",
              " ',',\n",
              " 'we',\n",
              " 'see',\n",
              " 'genius',\n",
              " ',',\n",
              " 'because',\n",
              " 'the',\n",
              " 'ones',\n",
              " 'who',\n",
              " 'are',\n",
              " 'crazy',\n",
              " 'enough',\n",
              " 'to',\n",
              " 'think',\n",
              " 'that',\n",
              " 'they',\n",
              " 'can',\n",
              " 'change',\n",
              " 'the',\n",
              " 'world',\n",
              " ',',\n",
              " 'are',\n",
              " 'the',\n",
              " 'ones',\n",
              " 'who',\n",
              " 'do',\n",
              " '.']"
            ]
          },
          "metadata": {},
          "execution_count": 68
        }
      ]
    },
    {
      "cell_type": "markdown",
      "source": [
        "## 3. Tokenize text in different languages with **spaCy**"
      ],
      "metadata": {
        "id": "26znV3BE9ftB"
      }
    },
    {
      "cell_type": "markdown",
      "source": [
        "When you need to tokenize text written in a language other than English, you can use spaCy. This is a library for advanced natural language processing, written in Python and Cython, that supports tokenization for more than 65 languages.\n",
        "\n",
        "Let’s tokenize the same Steve Jobs text but now translated in Spanish."
      ],
      "metadata": {
        "id": "SIHdLpx59vry"
      }
    },
    {
      "cell_type": "markdown",
      "source": [
        "It considers punctuation as a token"
      ],
      "metadata": {
        "id": "y2WjsX3A-CKb"
      }
    },
    {
      "cell_type": "code",
      "source": [
        "from spacy.lang.es import Spanish\n",
        "spac = Spanish()\n",
        "\n",
        "text_spanish = \"\"\"Por los locos. Los marginados. Los rebeldes. Los problematicos. \n",
        "Los inadaptados. Los que ven las cosas de una manera distinta. A los que no les gustan\n",
        "las reglas. Y a los que no respetan el “status quo”. Puedes citarlos, discrepar de ellos,\n",
        "ensalzarlos o vilipendiarlos. Pero lo que no puedes hacer es ignorarlos… Porque ellos\n",
        "cambian las cosas, empujan hacia adelante la raza humana y, aunque algunos puedan\n",
        "considerarlos locos, nosotros vemos en ellos a genios. Porque las personas que están\n",
        "lo bastante locas como para creer que pueden cambiar el mundo, son las que lo logran.\"\"\"\n",
        "\n",
        "doc = spac(text_spanish)\n",
        "\n",
        "tokens = [token.text for token in doc]\n",
        "print(tokens)"
      ],
      "metadata": {
        "id": "zMR-5DCN8L36",
        "colab": {
          "base_uri": "https://localhost:8080/"
        },
        "outputId": "5f7c61ba-ff12-4c8a-a7b4-94c1cccdf9b8"
      },
      "execution_count": null,
      "outputs": [
        {
          "output_type": "stream",
          "name": "stdout",
          "text": [
            "['Por', 'los', 'locos', '.', 'Los', 'marginados', '.', 'Los', 'rebeldes', '.', 'Los', 'problematicos', '.', '\\n', 'Los', 'inadaptados', '.', 'Los', 'que', 'ven', 'las', 'cosas', 'de', 'una', 'manera', 'distinta', '.', 'A', 'los', 'que', 'no', 'les', 'gustan', '\\n', 'las', 'reglas', '.', 'Y', 'a', 'los', 'que', 'no', 'respetan', 'el', '“', 'status', 'quo', '”', '.', 'Puedes', 'citarlos', ',', 'discrepar', 'de', 'ellos', ',', '\\n', 'ensalzarlos', 'o', 'vilipendiarlos', '.', 'Pero', 'lo', 'que', 'no', 'puedes', 'hacer', 'es', 'ignorarlos', '…', 'Porque', 'ellos', '\\n', 'cambian', 'las', 'cosas', ',', 'empujan', 'hacia', 'adelante', 'la', 'raza', 'humana', 'y', ',', 'aunque', 'algunos', 'puedan', '\\n', 'considerarlos', 'locos', ',', 'nosotros', 'vemos', 'en', 'ellos', 'a', 'genios', '.', 'Porque', 'las', 'personas', 'que', 'están', '\\n', 'lo', 'bastante', 'locas', 'como', 'para', 'creer', 'que', 'pueden', 'cambiar', 'el', 'mundo', ',', 'son', 'las', 'que', 'lo', 'logran', '.']\n"
          ]
        }
      ]
    },
    {
      "cell_type": "markdown",
      "source": [
        "['Por', 'los', 'locos', '.', 'Los', 'marginados', '.', 'Los', 'rebeldes', '.', 'Los', 'problematicos', '.', '\\n', 'Los', 'inadaptados', '.', 'Los', 'que', 'ven', 'las', 'cosas', 'de', 'una', 'manera', 'distinta', '.', 'A', 'los', 'que', 'no', 'les', 'gustan', '\\n', 'las', 'reglas', '.', 'Y', 'a', 'los', 'que', 'no', 'respetan', 'el', '“', 'status', 'quo', '”', '.', 'Puedes', 'citarlos', ',', 'discrepar', 'de', 'ellos', ',', '\\n', 'ensalzarlos', 'o', 'vilipendiarlos', '.', 'Pero', 'lo', 'que', 'no', 'puedes', 'hacer', 'es', 'ignorarlos', '…', 'Porque', 'ellos', '\\n', 'cambian', 'las', 'cosas', ',', 'empujan', 'hacia', 'adelante', 'la', 'raza', 'humana', 'y', ',', 'aunque', 'algunos', 'puedan', '\\n', 'considerarlos', 'locos', ',', 'nosotros', 'vemos', 'en', 'ellos', 'a', 'genios', '.', 'Porque', 'las', 'personas', 'que', 'están', '\\n', 'lo', 'bastante', 'locas', 'como', 'para', 'creer', 'que', 'pueden', 'cambiar', 'el', 'mundo', ',', 'son', 'las', 'que', 'lo', 'logran', '.']\n"
      ],
      "metadata": {
        "id": "YQ7EOlYl1omT"
      }
    },
    {
      "cell_type": "markdown",
      "source": [
        "In this case, we imported Spanish from spacy.lang.es but if you’re working with text in English, just import English from spacy.lang.en [Check the list of languages available here.](https://spacy.io/usage/models)"
      ],
      "metadata": {
        "id": "7GMITrFp-P3p"
      }
    },
    {
      "cell_type": "markdown",
      "source": [
        "<br>"
      ],
      "metadata": {
        "id": "e_vjbnzl_LuU"
      }
    },
    {
      "cell_type": "markdown",
      "source": [
        "## 4. Tokenization with **Gensim**\n",
        "\n",
        "Gensim(Generate Similar) is a library for unsupervised topic modeling and natural language processing and also contains a tokenizer. Once you install Gensim, tokenizing text will be as simple as writing the following code.\n",
        "\n",
        "Gensim is quite strict with punctuation. It splits whenever a punctuation is encountered."
      ],
      "metadata": {
        "id": "jCCLzny6-pHZ"
      }
    },
    {
      "cell_type": "code",
      "source": [
        "from gensim.utils import tokenize\n",
        "#word tokenization\n",
        "print(list(tokenize(text)))"
      ],
      "metadata": {
        "id": "5Q17nrr599JJ",
        "colab": {
          "base_uri": "https://localhost:8080/"
        },
        "outputId": "a964b50f-d0eb-4378-94c4-50278484e5b4"
      },
      "execution_count": null,
      "outputs": [
        {
          "output_type": "stream",
          "name": "stdout",
          "text": [
            "['Here', 's', 'to', 'the', 'crazy', 'ones', 'the', 'misfits', 'the', 'rebels', 'the', 'troublemakers', 'the', 'round', 'pegs', 'in', 'the', 'square', 'holes', 'The', 'ones', 'who', 'see', 'things', 'differently', 'they', 're', 'not', 'fond', 'of', 'rules', 'You', 'can', 'quote', 'them', 'disagree', 'with', 'them', 'glorify', 'or', 'vilify', 'them', 'but', 'the', 'only', 'thing', 'you', 'can', 't', 'do', 'is', 'ignore', 'them', 'because', 'they', 'change', 'things', 'They', 'push', 'the', 'human', 'race', 'forward', 'and', 'while', 'some', 'may', 'see', 'them', 'as', 'the', 'crazy', 'ones', 'we', 'see', 'genius', 'because', 'the', 'ones', 'who', 'are', 'crazy', 'enough', 'to', 'think', 'that', 'they', 'can', 'change', 'the', 'world', 'are', 'the', 'ones', 'who', 'do']\n"
          ]
        }
      ]
    },
    {
      "cell_type": "code",
      "source": [],
      "metadata": {
        "id": "JLv4bnmm_R8N"
      },
      "execution_count": null,
      "outputs": []
    },
    {
      "cell_type": "markdown",
      "source": [
        "#**Stop Words**"
      ],
      "metadata": {
        "id": "0Hg1x8isDdev"
      }
    },
    {
      "cell_type": "markdown",
      "source": [
        "Stop words are a set of commonly used words in a language. Examples of stop words in English are “a”, “the”, “is”, “are” and etc. Stop words are commonly used in Text Mining and NLP to eliminate words that are so commonly used that they carry very little useful information.\n",
        "\n",
        "\n",
        "<br>\n",
        "\n",
        "*Why do we remove stop words?*\n",
        "\n",
        "It helps to remove the low-level information from our text in order to give more focus to the important information.\n",
        "Those words do not really contribute significant information to our model.\n",
        "\n",
        "<br>\n",
        "\n",
        "*Do we always remove stop words*\n",
        "\n",
        "Not always. It highly depends on the use case. For example tasks like text classification do not generally need stop words as the other words present in the dataset are more important and give the general idea of the text. So, we generally remove stop words in such tasks.\n",
        "\n",
        "However, in task like sentiment analysis, you might want to maintain these stop words. \n",
        "\n",
        "For example, if we are training a model that can perform the sentiment analysis task, we might not remove the stop words.\n",
        "\n",
        "**Movie review:** *“The movie was not good at all.”*\n",
        "\n",
        "**Text after removal of stop words:** *“movie good”*\n",
        "\n",
        "We can clearly see that the review for the movie was negative. However, after the removal of stop words, the review became positive, which is not the reality. Thus, the removal of stop words can be problematic here."
      ],
      "metadata": {
        "id": "y6ro0kL4DrKY"
      }
    },
    {
      "cell_type": "markdown",
      "source": [
        "<br>"
      ],
      "metadata": {
        "id": "j4m0m9zQGhYZ"
      }
    },
    {
      "cell_type": "markdown",
      "source": [
        "##Removing Stop words with Natural Language Toolkit (NLTK)"
      ],
      "metadata": {
        "id": "vpGKxzYYGbab"
      }
    },
    {
      "cell_type": "code",
      "source": [
        "\n",
        "import nltk\n",
        "nltk.download('stopwords')\n",
        "from nltk.corpus import stopwords"
      ],
      "metadata": {
        "id": "PwB98IavDiQm",
        "colab": {
          "base_uri": "https://localhost:8080/"
        },
        "outputId": "fc631e28-050b-49ea-ef67-cde3aeda988e"
      },
      "execution_count": null,
      "outputs": [
        {
          "output_type": "stream",
          "name": "stdout",
          "text": [
            "[nltk_data] Downloading package stopwords to /root/nltk_data...\n",
            "[nltk_data]   Package stopwords is already up-to-date!\n"
          ]
        }
      ]
    },
    {
      "cell_type": "code",
      "source": [
        "sw_nltk = stopwords.words('english')\n",
        "print(sw_nltk)"
      ],
      "metadata": {
        "id": "F8fPr4yuGw4m",
        "colab": {
          "base_uri": "https://localhost:8080/"
        },
        "outputId": "89933b97-a61a-4845-ea2c-b36153a0ebfc"
      },
      "execution_count": null,
      "outputs": [
        {
          "output_type": "stream",
          "name": "stdout",
          "text": [
            "['i', 'me', 'my', 'myself', 'we', 'our', 'ours', 'ourselves', 'you', \"you're\", \"you've\", \"you'll\", \"you'd\", 'your', 'yours', 'yourself', 'yourselves', 'he', 'him', 'his', 'himself', 'she', \"she's\", 'her', 'hers', 'herself', 'it', \"it's\", 'its', 'itself', 'they', 'them', 'their', 'theirs', 'themselves', 'what', 'which', 'who', 'whom', 'this', 'that', \"that'll\", 'these', 'those', 'am', 'is', 'are', 'was', 'were', 'be', 'been', 'being', 'have', 'has', 'had', 'having', 'do', 'does', 'did', 'doing', 'a', 'an', 'the', 'and', 'but', 'if', 'or', 'because', 'as', 'until', 'while', 'of', 'at', 'by', 'for', 'with', 'about', 'against', 'between', 'into', 'through', 'during', 'before', 'after', 'above', 'below', 'to', 'from', 'up', 'down', 'in', 'out', 'on', 'off', 'over', 'under', 'again', 'further', 'then', 'once', 'here', 'there', 'when', 'where', 'why', 'how', 'all', 'any', 'both', 'each', 'few', 'more', 'most', 'other', 'some', 'such', 'no', 'nor', 'not', 'only', 'own', 'same', 'so', 'than', 'too', 'very', 's', 't', 'can', 'will', 'just', 'don', \"don't\", 'should', \"should've\", 'now', 'd', 'll', 'm', 'o', 're', 've', 'y', 'ain', 'aren', \"aren't\", 'couldn', \"couldn't\", 'didn', \"didn't\", 'doesn', \"doesn't\", 'hadn', \"hadn't\", 'hasn', \"hasn't\", 'haven', \"haven't\", 'isn', \"isn't\", 'ma', 'mightn', \"mightn't\", 'mustn', \"mustn't\", 'needn', \"needn't\", 'shan', \"shan't\", 'shouldn', \"shouldn't\", 'wasn', \"wasn't\", 'weren', \"weren't\", 'won', \"won't\", 'wouldn', \"wouldn't\"]\n"
          ]
        }
      ]
    },
    {
      "cell_type": "markdown",
      "source": [
        "['i', 'me', 'my', 'myself', 'we', 'our', 'ours', 'ourselves', 'you', \"you're\", \"you've\", \"you'll\", \"you'd\", 'your', 'yours', 'yourself', 'yourselves', 'he', 'him', 'his', 'himself', 'she', \"she's\", 'her', 'hers', 'herself', 'it', \"it's\", 'its', 'itself', 'they', 'them', 'their', 'theirs', 'themselves', 'what', 'which', 'who', 'whom', 'this', 'that', \"that'll\", 'these', 'those', 'am', 'is', 'are', 'was', 'were', 'be', 'been', 'being', 'have', 'has', 'had', 'having', 'do', 'does', 'did', 'doing', 'a', 'an', 'the', 'and', 'but', 'if', 'or', 'because', 'as', 'until', 'while', 'of', 'at', 'by', 'for', 'with', 'about', 'against', 'between', 'into', 'through', 'during', 'before', 'after', 'above', 'below', 'to', 'from', 'up', 'down', 'in', 'out', 'on', 'off', 'over', 'under', 'again', 'further', 'then', 'once', 'here', 'there', 'when', 'where', 'why', 'how', 'all', 'any', 'both', 'each', 'few', 'more', 'most', 'other', 'some', 'such', 'no', 'nor', 'not', 'only', 'own', 'same', 'so', 'than', 'too', 'very', 's', 't', 'can', 'will', 'just', 'don', \"don't\", 'should', \"should've\", 'now', 'd', 'll', 'm', 'o', 're', 've', 'y', 'ain', 'aren', \"aren't\", 'couldn', \"couldn't\", 'didn', \"didn't\", 'doesn', \"doesn't\", 'hadn', \"hadn't\", 'hasn', \"hasn't\", 'haven', \"haven't\", 'isn', \"isn't\", 'ma', 'mightn', \"mightn't\", 'mustn', \"mustn't\", 'needn', \"needn't\", 'shan', \"shan't\", 'shouldn', \"shouldn't\", 'wasn', \"wasn't\", 'weren', \"weren't\", 'won', \"won't\", 'wouldn', \"wouldn't\"]\n"
      ],
      "metadata": {
        "id": "1CJlPoWR5Hd1"
      }
    },
    {
      "cell_type": "markdown",
      "source": [
        "See all of them in one go:"
      ],
      "metadata": {
        "id": "F9aRd4-zHd-3"
      }
    },
    {
      "cell_type": "markdown",
      "source": [
        "Let us check how many stop words this library has."
      ],
      "metadata": {
        "id": "QJbmt3C4H-UH"
      }
    },
    {
      "cell_type": "code",
      "source": [
        "\n",
        "print(len(sw_nltk))"
      ],
      "metadata": {
        "id": "bA-80jJSG-Xd",
        "colab": {
          "base_uri": "https://localhost:8080/"
        },
        "outputId": "fe68fc9e-a870-48a1-e069-1807a2a4bf7a"
      },
      "execution_count": null,
      "outputs": [
        {
          "output_type": "stream",
          "name": "stdout",
          "text": [
            "179\n"
          ]
        }
      ]
    },
    {
      "cell_type": "code",
      "source": [
        "\n",
        "text2 = \"Here's to the crazy ones, the misfits, the rebels, the troublemakers, the round pegs in the square holes.\""
      ],
      "metadata": {
        "id": "eiSzoc7TI2yx"
      },
      "execution_count": null,
      "outputs": []
    },
    {
      "cell_type": "code",
      "source": [
        "words = [word for word in text2.split() if word.lower() not in sw_nltk]\n",
        "new_text = \" \".join(words)\n",
        "print(new_text)\n",
        "print(\"Old length: \", len(text2))\n",
        "print(\"New length: \", len(new_text))"
      ],
      "metadata": {
        "id": "_yFtz8PnICK6",
        "colab": {
          "base_uri": "https://localhost:8080/"
        },
        "outputId": "b58c709b-a5ec-4816-9df2-3f0b7ddc4d97"
      },
      "execution_count": null,
      "outputs": [
        {
          "output_type": "stream",
          "name": "stdout",
          "text": [
            "Here's crazy ones, misfits, rebels, troublemakers, round pegs square holes.\n",
            "Old length:  105\n",
            "New length:  75\n"
          ]
        }
      ]
    },
    {
      "cell_type": "code",
      "source": [],
      "metadata": {
        "id": "m8emYAfzImAM"
      },
      "execution_count": null,
      "outputs": []
    },
    {
      "cell_type": "markdown",
      "source": [
        "##Removing Stop words with spaCy"
      ],
      "metadata": {
        "id": "rmGtEznCKhTf"
      }
    },
    {
      "cell_type": "code",
      "source": [
        "import spacy\n",
        "#loading the english language small model of spacy\n",
        "en = spacy.load('en_core_web_sm')\n",
        "sw_spacy = en.Defaults.stop_words\n",
        "print(sw_spacy)"
      ],
      "metadata": {
        "id": "6APClmX9Kl4C",
        "colab": {
          "base_uri": "https://localhost:8080/"
        },
        "outputId": "89a2398b-b94a-4483-b6bd-17b2dca3efc8"
      },
      "execution_count": null,
      "outputs": [
        {
          "output_type": "stream",
          "name": "stdout",
          "text": [
            "{'before', 'yet', 'so', 'him', 'anyone', 'to', 'fifteen', 'then', 'done', 'at', 'would', 'two', 'am', 'using', '‘re', 'ourselves', 'n‘t', 'meanwhile', 'onto', 'must', 'while', 'whenever', 'noone', 'thus', 'nevertheless', 'much', 'five', 'part', 'against', 'doing', 'across', 'give', 'hence', 'made', 'her', 'is', 'full', 'get', 'off', 'more', 'had', 'itself', 'whether', 'too', 'within', 'nobody', 'few', 'six', 'hers', 'thereupon', '‘m', 'once', 'of', 'an', 'became', 'latterly', 'not', 'however', 'herself', 'be', 'namely', 'almost', 'afterwards', 'should', 'otherwise', 'eleven', 'seeming', 'less', 'nor', '’m', 'again', 'as', 'own', 'me', 'someone', 'alone', 'others', 'per', 'all', '’d', '’s', 'nowhere', 'themselves', 'whose', 'next', 'ten', 'my', 'anywhere', 'below', 'even', 'up', 'together', 'why', 'call', 'say', 'though', 'a', 'one', 'wherein', 'about', \"'d\", 'beside', 'whence', 'hundred', 'do', 'twenty', 'into', 'may', 'been', 'seem', 'such', 'behind', 'put', \"'ll\", 'becoming', 'in', 'really', '‘ll', 'you', 'it', 'quite', 'formerly', '‘s', 'always', 'with', 'mostly', 'both', 'somewhere', 'seems', 'whole', 'among', 'many', 'along', 'fifty', 'indeed', 'only', 'last', 'those', 'go', 'each', 'moreover', 'ca', 'somehow', 'often', 'very', 'any', 'see', 'whatever', 'yours', 'something', 'well', 'down', 'did', 'some', 'three', 'what', 'has', 'back', 'thence', 'move', 'beyond', 'without', 'sometime', 'besides', 'them', 'myself', 'were', 'forty', 'upon', 'enough', 'herein', '’re', 'these', 'out', 'your', 'whom', 'when', 'rather', 'already', '’ve', 'third', 'whoever', 'amongst', 'there', 'ours', 'top', 'keep', 'although', 'here', 'side', 'another', 'ever', 'his', 'several', 'except', 'thereafter', 'whither', '‘d', 'therein', \"'m\", \"'ve\", 'via', 'and', 'he', 'please', 'anyhow', 'seemed', '’ll', 'now', 'does', 'latter', 'first', 'mine', 'sometimes', 'same', 'whereafter', 'front', 'the', 'will', 'around', 'where', 'just', 'on', 'us', 'could', 'yourself', 'still', \"'s\", 'because', 'thereby', 'nothing', 'perhaps', 'most', 'its', '‘ve', \"'re\", 'show', 'through', 'every', 'we', 'due', 'beforehand', 'after', 'anyway', 'name', 'himself', 'therefore', 'also', 'whereby', 'from', 'twelve', 'above', 're', 'eight', 'are', 'serious', 'former', 'yourselves', \"n't\", 'nine', 'bottom', 'this', 'their', 'under', 'until', 'becomes', 'how', 'used', 'might', 'whereupon', 'by', 'amount', 'she', 'unless', 'but', 'empty', 'throughout', 'four', 'have', 'or', 'regarding', 'hereupon', 'if', 'that', 'n’t', 'no', 'our', 'wherever', 'sixty', 'hereafter', 'elsewhere', 'being', 'thru', 'least', 'none', 'various', 'neither', 'between', 'everywhere', 'other', 'hereby', 'become', 'than', 'was', 'can', 'further', 'for', 'towards', 'everything', 'they', 'since', 'make', 'over', 'whereas', 'who', 'else', 'which', 'cannot', 'either', 'never', 'everyone', 'take', 'anything', 'during', 'toward', 'i'}\n"
          ]
        }
      ]
    },
    {
      "cell_type": "markdown",
      "source": [
        "{'before', 'yet', 'so', 'him', 'anyone', 'to', 'fifteen', 'then', 'done', 'at', 'would', 'two', 'am', 'using', '‘re', 'ourselves', 'n‘t', 'meanwhile', 'onto', 'must', 'while', 'whenever', 'noone', 'thus', 'nevertheless', 'much', 'five', 'part', 'against', 'doing', 'across', 'give', 'hence', 'made', 'her', 'is', 'full', 'get', 'off', 'more', 'had', 'itself', 'whether', 'too', 'within', 'nobody', 'few', 'six', 'hers', 'thereupon', '‘m', 'once', 'of', 'an', 'became', 'latterly', 'not', 'however', 'herself', 'be', 'namely', 'almost', 'afterwards', 'should', 'otherwise', 'eleven', 'seeming', 'less', 'nor', '’m', 'again', 'as', 'own', 'me', 'someone', 'alone', 'others', 'per', 'all', '’d', '’s', 'nowhere', 'themselves', 'whose', 'next', 'ten', 'my', 'anywhere', 'below', 'even', 'up', 'together', 'why', 'call', 'say', 'though', 'a', 'one', 'wherein', 'about', \"'d\", 'beside', 'whence', 'hundred', 'do', 'twenty', 'into', 'may', 'been', 'seem', 'such', 'behind', 'put', \"'ll\", 'becoming', 'in', 'really', '‘ll', 'you', 'it', 'quite', 'formerly', '‘s', 'always', 'with', 'mostly', 'both', 'somewhere', 'seems', 'whole', 'among', 'many', 'along', 'fifty', 'indeed', 'only', 'last', 'those', 'go', 'each', 'moreover', 'ca', 'somehow', 'often', 'very', 'any', 'see', 'whatever', 'yours', 'something', 'well', 'down', 'did', 'some', 'three', 'what', 'has', 'back', 'thence', 'move', 'beyond', 'without', 'sometime', 'besides', 'them', 'myself', 'were', 'forty', 'upon', 'enough', 'herein', '’re', 'these', 'out', 'your', 'whom', 'when', 'rather', 'already', '’ve', 'third', 'whoever', 'amongst', 'there', 'ours', 'top', 'keep', 'although', 'here', 'side', 'another', 'ever', 'his', 'several', 'except', 'thereafter', 'whither', '‘d', 'therein', \"'m\", \"'ve\", 'via', 'and', 'he', 'please', 'anyhow', 'seemed', '’ll', 'now', 'does', 'latter', 'first', 'mine', 'sometimes', 'same', 'whereafter', 'front', 'the', 'will', 'around', 'where', 'just', 'on', 'us', 'could', 'yourself', 'still', \"'s\", 'because', 'thereby', 'nothing', 'perhaps', 'most', 'its', '‘ve', \"'re\", 'show', 'through', 'every', 'we', 'due', 'beforehand', 'after', 'anyway', 'name', 'himself', 'therefore', 'also', 'whereby', 'from', 'twelve', 'above', 're', 'eight', 'are', 'serious', 'former', 'yourselves', \"n't\", 'nine', 'bottom', 'this', 'their', 'under', 'until', 'becomes', 'how', 'used', 'might', 'whereupon', 'by', 'amount', 'she', 'unless', 'but', 'empty', 'throughout', 'four', 'have', 'or', 'regarding', 'hereupon', 'if', 'that', 'n’t', 'no', 'our', 'wherever', 'sixty', 'hereafter', 'elsewhere', 'being', 'thru', 'least', 'none', 'various', 'neither', 'between', 'everywhere', 'other', 'hereby', 'become', 'than', 'was', 'can', 'further', 'for', 'towards', 'everything', 'they', 'since', 'make', 'over', 'whereas', 'who', 'else', 'which', 'cannot', 'either', 'never', 'everyone', 'take', 'anything', 'during', 'toward', 'i'}\n"
      ],
      "metadata": {
        "id": "6Nns_dZt6wCe"
      }
    },
    {
      "cell_type": "code",
      "source": [
        "\n",
        "print(len(sw_spacy))"
      ],
      "metadata": {
        "id": "49H7IVHAKyjN",
        "colab": {
          "base_uri": "https://localhost:8080/"
        },
        "outputId": "b2e2889d-5de7-4c78-d1d9-f6b30e8c1898"
      },
      "execution_count": null,
      "outputs": [
        {
          "output_type": "stream",
          "name": "stdout",
          "text": [
            "326\n"
          ]
        }
      ]
    },
    {
      "cell_type": "markdown",
      "source": [
        "Quite a long list of stop words"
      ],
      "metadata": {
        "id": "06vpqCavLJDe"
      }
    },
    {
      "cell_type": "code",
      "source": [
        "words = [word for word in text2.split() if word.lower() not in sw_spacy]\n",
        "new_text = \" \".join(words)\n",
        "print(new_text)\n",
        "print(\"Old length: \", len(text2))\n",
        "print(\"New length: \", len(new_text))"
      ],
      "metadata": {
        "id": "5GnZFB3NLDdk",
        "colab": {
          "base_uri": "https://localhost:8080/"
        },
        "outputId": "c24b8845-ab2c-48cb-c935-5d9814ba7db5"
      },
      "execution_count": null,
      "outputs": [
        {
          "output_type": "stream",
          "name": "stdout",
          "text": [
            "Here's crazy ones, misfits, rebels, troublemakers, round pegs square holes.\n",
            "Old length:  105\n",
            "New length:  75\n"
          ]
        }
      ]
    },
    {
      "cell_type": "markdown",
      "source": [
        "Both NLTK and spaCy did same work in this case. Might not be same in other scenarios."
      ],
      "metadata": {
        "id": "ZRbObZwvLbci"
      }
    },
    {
      "cell_type": "code",
      "source": [],
      "metadata": {
        "id": "k3STzaByLXmM"
      },
      "execution_count": null,
      "outputs": []
    },
    {
      "cell_type": "markdown",
      "source": [
        "##Removing Stop words with Ginsim"
      ],
      "metadata": {
        "id": "LxSEUckXLsYx"
      }
    },
    {
      "cell_type": "code",
      "source": [
        "import gensim\n",
        "from gensim.parsing.preprocessing import remove_stopwords, STOPWORDS\n",
        "print(STOPWORDS)"
      ],
      "metadata": {
        "id": "j_0suPJ-LtGO",
        "colab": {
          "base_uri": "https://localhost:8080/"
        },
        "outputId": "fe6bdb71-f4f6-4a5b-d275-69feec55e184"
      },
      "execution_count": null,
      "outputs": [
        {
          "output_type": "stream",
          "name": "stdout",
          "text": [
            "frozenset({'before', 'yet', 'so', 'him', 'anyone', 'to', 'fifteen', 'then', 'done', 'cry', 'at', 'would', 'two', 'am', 'using', 'ourselves', 'meanwhile', 'onto', 'must', 'while', 'km', 'whenever', 'noone', 'thus', 'fire', 'nevertheless', 'ie', 'computer', 'much', 'part', 'five', 'against', 'doing', 'across', 'system', 'hence', 'give', 'made', 'her', 'is', 'full', 'get', 'off', 'more', 'had', 'itself', 'whether', 'too', 'interest', 'within', 'nobody', 'few', 'six', 'mill', 'thereupon', 'hers', 'once', 'of', 'couldnt', 'became', 'an', 'latterly', 'not', 'however', 'herself', 'be', 'namely', 'almost', 'afterwards', 'should', 'un', 'otherwise', 'eleven', 'seeming', 'less', 'nor', 'again', 'as', 'own', 'me', 'someone', 'con', 'alone', 'others', 'per', 'all', 'nowhere', 'themselves', 'whose', 'next', 'ten', 'my', 'anywhere', 'below', 'bill', 'even', 'up', 'together', 'why', 'call', 'say', 'though', 'a', 'eg', 'one', 'wherein', 'about', 'beside', 'whence', 'hundred', 'thin', 'do', 'twenty', 'into', 'may', 'been', 'seem', 'such', 'behind', 'put', 'really', 'becoming', 'in', 'you', 'it', 'quite', 'formerly', 'hasnt', 'always', 'with', 'mostly', 'both', 'somewhere', 'seems', 'whole', 'among', 'found', 'many', 'along', 'indeed', 'only', 'last', 'go', 'those', 'don', 'each', 'moreover', 'somehow', 'amoungst', 'very', 'often', 'didn', 'any', 'see', 'whatever', 'yours', 'something', 'well', 'down', 'did', 'some', 'three', 'what', 'has', 'back', 'thence', 'move', 'beyond', 'without', 'sincere', 'sometime', 'besides', 'them', 'myself', 'were', 'forty', 'upon', 'enough', 'herein', 'these', 'cant', 'out', 'your', 'whom', 'when', 'rather', 'already', 'third', 'whoever', 'amongst', 'there', 'ours', 'top', 'keep', 'although', 'here', 'side', 'another', 'ever', 'his', 'thereafter', 'several', 'whither', 'except', 'therein', 'via', 'and', 'he', 'please', 'anyhow', 'seemed', 'now', 'does', 'latter', 'find', 'first', 'mine', 'sometimes', 'same', 'whereafter', 'front', 'the', 'will', 'kg', 'around', 'where', 'just', 'on', 'us', 'could', 'yourself', 'still', 'detail', 'fify', 'because', 'thereby', 'nothing', 'perhaps', 'most', 'its', 'describe', 'show', 'through', 'thick', 'every', 'we', 'due', 'beforehand', 'after', 'anyway', 'name', 'himself', 'therefore', 'also', 'whereby', 'from', 'twelve', 'above', 're', 'eight', 'are', 'serious', 'former', 'yourselves', 'nine', 'bottom', 'inc', 'this', 'their', 'under', 'until', 'becomes', 'how', 'used', 'might', 'whereupon', 'by', 'amount', 'she', 'unless', 'but', 'empty', 'throughout', 'four', 'ltd', 'fill', 'have', 'or', 'regarding', 'hereupon', 'if', 'that', 'no', 'our', 'wherever', 'sixty', 'hereafter', 'doesn', 'elsewhere', 'being', 'thru', 'least', 'none', 'various', 'neither', 'between', 'everywhere', 'other', 'co', 'hereby', 'become', 'than', 'was', 'can', 'further', 'for', 'towards', 'etc', 'they', 'everything', 'since', 'make', 'over', 'whereas', 'who', 'else', 'which', 'cannot', 'either', 'de', 'never', 'everyone', 'take', 'during', 'anything', 'toward', 'i'})\n"
          ]
        }
      ]
    },
    {
      "cell_type": "markdown",
      "source": [
        "frozenset({'before', 'yet', 'so', 'him', 'anyone', 'to', 'fifteen', 'then', 'done', 'cry', 'at', 'would', 'two', 'am', 'using', 'ourselves', 'meanwhile', 'onto', 'must', 'while', 'km', 'whenever', 'noone', 'thus', 'fire', 'nevertheless', 'ie', 'computer', 'much', 'part', 'five', 'against', 'doing', 'across', 'system', 'hence', 'give', 'made', 'her', 'is', 'full', 'get', 'off', 'more', 'had', 'itself', 'whether', 'too', 'interest', 'within', 'nobody', 'few', 'six', 'mill', 'thereupon', 'hers', 'once', 'of', 'couldnt', 'became', 'an', 'latterly', 'not', 'however', 'herself', 'be', 'namely', 'almost', 'afterwards', 'should', 'un', 'otherwise', 'eleven', 'seeming', 'less', 'nor', 'again', 'as', 'own', 'me', 'someone', 'con', 'alone', 'others', 'per', 'all', 'nowhere', 'themselves', 'whose', 'next', 'ten', 'my', 'anywhere', 'below', 'bill', 'even', 'up', 'together', 'why', 'call', 'say', 'though', 'a', 'eg', 'one', 'wherein', 'about', 'beside', 'whence', 'hundred', 'thin', 'do', 'twenty', 'into', 'may', 'been', 'seem', 'such', 'behind', 'put', 'really', 'becoming', 'in', 'you', 'it', 'quite', 'formerly', 'hasnt', 'always', 'with', 'mostly', 'both', 'somewhere', 'seems', 'whole', 'among', 'found', 'many', 'along', 'indeed', 'only', 'last', 'go', 'those', 'don', 'each', 'moreover', 'somehow', 'amoungst', 'very', 'often', 'didn', 'any', 'see', 'whatever', 'yours', 'something', 'well', 'down', 'did', 'some', 'three', 'what', 'has', 'back', 'thence', 'move', 'beyond', 'without', 'sincere', 'sometime', 'besides', 'them', 'myself', 'were', 'forty', 'upon', 'enough', 'herein', 'these', 'cant', 'out', 'your', 'whom', 'when', 'rather', 'already', 'third', 'whoever', 'amongst', 'there', 'ours', 'top', 'keep', 'although', 'here', 'side', 'another', 'ever', 'his', 'thereafter', 'several', 'whither', 'except', 'therein', 'via', 'and', 'he', 'please', 'anyhow', 'seemed', 'now', 'does', 'latter', 'find', 'first', 'mine', 'sometimes', 'same', 'whereafter', 'front', 'the', 'will', 'kg', 'around', 'where', 'just', 'on', 'us', 'could', 'yourself', 'still', 'detail', 'fify', 'because', 'thereby', 'nothing', 'perhaps', 'most', 'its', 'describe', 'show', 'through', 'thick', 'every', 'we', 'due', 'beforehand', 'after', 'anyway', 'name', 'himself', 'therefore', 'also', 'whereby', 'from', 'twelve', 'above', 're', 'eight', 'are', 'serious', 'former', 'yourselves', 'nine', 'bottom', 'inc', 'this', 'their', 'under', 'until', 'becomes', 'how', 'used', 'might', 'whereupon', 'by', 'amount', 'she', 'unless', 'but', 'empty', 'throughout', 'four', 'ltd', 'fill', 'have', 'or', 'regarding', 'hereupon', 'if', 'that', 'no', 'our', 'wherever', 'sixty', 'hereafter', 'doesn', 'elsewhere', 'being', 'thru', 'least', 'none', 'various', 'neither', 'between', 'everywhere', 'other', 'co', 'hereby', 'become', 'than', 'was', 'can', 'further', 'for', 'towards', 'etc', 'they', 'everything', 'since', 'make', 'over', 'whereas', 'who', 'else', 'which', 'cannot', 'either', 'de', 'never', 'everyone', 'take', 'during', 'anything', 'toward', 'i'})\n"
      ],
      "metadata": {
        "id": "_ULK-xAu7iVt"
      }
    },
    {
      "cell_type": "code",
      "source": [
        "\n",
        "print(len(STOPWORDS))"
      ],
      "metadata": {
        "id": "qBPCoMVhLyrV",
        "colab": {
          "base_uri": "https://localhost:8080/"
        },
        "outputId": "9e19cb7d-964e-44fa-a918-8527bec69b36"
      },
      "execution_count": null,
      "outputs": [
        {
          "output_type": "stream",
          "name": "stdout",
          "text": [
            "337\n"
          ]
        }
      ]
    },
    {
      "cell_type": "code",
      "source": [
        "new_text = remove_stopwords(text2)\n",
        "print(new_text)\n",
        "print(\"Old length: \", len(text2))\n",
        "print(\"New length: \", len(new_text))"
      ],
      "metadata": {
        "id": "XpDk2niKMqqp",
        "colab": {
          "base_uri": "https://localhost:8080/"
        },
        "outputId": "fea1a58f-e3db-4255-ea39-e61d47a7a1fd"
      },
      "execution_count": null,
      "outputs": [
        {
          "output_type": "stream",
          "name": "stdout",
          "text": [
            "Here's crazy ones, misfits, rebels, troublemakers, round pegs square holes.\n",
            "Old length:  105\n",
            "New length:  75\n"
          ]
        }
      ]
    },
    {
      "cell_type": "code",
      "source": [],
      "metadata": {
        "id": "bPJByfDwMzzA"
      },
      "execution_count": null,
      "outputs": []
    },
    {
      "cell_type": "markdown",
      "source": [
        "##Removing Stop words with Scikit-Learn"
      ],
      "metadata": {
        "id": "Kkf0WXo9M94y"
      }
    },
    {
      "cell_type": "code",
      "source": [
        "#@title\n",
        "from sklearn.feature_extraction.text import ENGLISH_STOP_WORDS\n",
        "print(ENGLISH_STOP_WORDS)"
      ],
      "metadata": {
        "id": "tAEICRJrNBt1",
        "colab": {
          "base_uri": "https://localhost:8080/"
        },
        "outputId": "035d5477-3891-498d-c847-8f7b60066975"
      },
      "execution_count": null,
      "outputs": [
        {
          "output_type": "stream",
          "name": "stdout",
          "text": [
            "frozenset({'before', 'yet', 'so', 'him', 'anyone', 'to', 'fifteen', 'then', 'done', 'cry', 'at', 'would', 'two', 'am', 'ourselves', 'meanwhile', 'onto', 'must', 'while', 'whenever', 'noone', 'thus', 'fire', 'nevertheless', 'ie', 'much', 'five', 'part', 'against', 'across', 'system', 'give', 'hence', 'made', 'her', 'is', 'full', 'get', 'off', 'more', 'had', 'itself', 'whether', 'too', 'interest', 'within', 'nobody', 'few', 'six', 'hers', 'thereupon', 'mill', 'once', 'of', 'couldnt', 'an', 'became', 'latterly', 'not', 'however', 'herself', 'be', 'namely', 'almost', 'afterwards', 'should', 'un', 'otherwise', 'eleven', 'seeming', 'less', 'nor', 'again', 'as', 'own', 'me', 'con', 'someone', 'alone', 'others', 'per', 'all', 'nowhere', 'themselves', 'whose', 'next', 'ten', 'my', 'anywhere', 'below', 'bill', 'even', 'up', 'together', 'why', 'call', 'though', 'a', 'eg', 'one', 'wherein', 'about', 'beside', 'whence', 'hundred', 'thin', 'do', 'twenty', 'into', 'may', 'been', 'seem', 'such', 'behind', 'put', 'becoming', 'in', 'you', 'it', 'formerly', 'hasnt', 'always', 'with', 'mostly', 'both', 'somewhere', 'seems', 'whole', 'among', 'found', 'many', 'along', 'fifty', 'indeed', 'only', 'last', 'those', 'go', 'each', 'moreover', 'somehow', 'amoungst', 'often', 'very', 'any', 'see', 'whatever', 'yours', 'something', 'well', 'down', 'some', 'three', 'what', 'has', 'back', 'thence', 'move', 'beyond', 'without', 'sincere', 'sometime', 'besides', 'them', 'myself', 'were', 'forty', 'upon', 'enough', 'herein', 'these', 'cant', 'out', 'your', 'whom', 'when', 'rather', 'already', 'third', 'whoever', 'amongst', 'there', 'ours', 'top', 'keep', 'although', 'here', 'side', 'another', 'ever', 'his', 'several', 'except', 'thereafter', 'whither', 'therein', 'via', 'and', 'he', 'please', 'anyhow', 'seemed', 'now', 'latter', 'find', 'first', 'mine', 'sometimes', 'same', 'whereafter', 'front', 'the', 'will', 'around', 'where', 'on', 'us', 'could', 'yourself', 'still', 'detail', 'because', 'thereby', 'nothing', 'perhaps', 'most', 'its', 'describe', 'show', 'through', 'thick', 'every', 'we', 'due', 'beforehand', 'after', 'anyway', 'name', 'himself', 'therefore', 'also', 'whereby', 'from', 'twelve', 'above', 're', 'eight', 'are', 'serious', 'former', 'yourselves', 'nine', 'bottom', 'inc', 'this', 'their', 'under', 'until', 'becomes', 'how', 'might', 'whereupon', 'by', 'amount', 'she', 'but', 'empty', 'throughout', 'four', 'ltd', 'fill', 'have', 'or', 'hereupon', 'if', 'that', 'no', 'our', 'wherever', 'sixty', 'hereafter', 'elsewhere', 'being', 'thru', 'least', 'none', 'neither', 'between', 'other', 'everywhere', 'co', 'hereby', 'become', 'than', 'was', 'can', 'further', 'for', 'towards', 'etc', 'everything', 'they', 'since', 'over', 'whereas', 'who', 'else', 'which', 'cannot', 'either', 'de', 'never', 'everyone', 'take', 'anything', 'during', 'toward', 'i'})\n"
          ]
        }
      ]
    },
    {
      "cell_type": "markdown",
      "source": [
        "frozenset({'before', 'yet', 'so', 'him', 'anyone', 'to', 'fifteen', 'then', 'done', 'cry', 'at', 'would', 'two', 'am', 'ourselves', 'meanwhile', 'onto', 'must', 'while', 'whenever', 'noone', 'thus', 'fire', 'nevertheless', 'ie', 'much', 'five', 'part', 'against', 'across', 'system', 'give', 'hence', 'made', 'her', 'is', 'full', 'get', 'off', 'more', 'had', 'itself', 'whether', 'too', 'interest', 'within', 'nobody', 'few', 'six', 'hers', 'thereupon', 'mill', 'once', 'of', 'couldnt', 'an', 'became', 'latterly', 'not', 'however', 'herself', 'be', 'namely', 'almost', 'afterwards', 'should', 'un', 'otherwise', 'eleven', 'seeming', 'less', 'nor', 'again', 'as', 'own', 'me', 'con', 'someone', 'alone', 'others', 'per', 'all', 'nowhere', 'themselves', 'whose', 'next', 'ten', 'my', 'anywhere', 'below', 'bill', 'even', 'up', 'together', 'why', 'call', 'though', 'a', 'eg', 'one', 'wherein', 'about', 'beside', 'whence', 'hundred', 'thin', 'do', 'twenty', 'into', 'may', 'been', 'seem', 'such', 'behind', 'put', 'becoming', 'in', 'you', 'it', 'formerly', 'hasnt', 'always', 'with', 'mostly', 'both', 'somewhere', 'seems', 'whole', 'among', 'found', 'many', 'along', 'fifty', 'indeed', 'only', 'last', 'those', 'go', 'each', 'moreover', 'somehow', 'amoungst', 'often', 'very', 'any', 'see', 'whatever', 'yours', 'something', 'well', 'down', 'some', 'three', 'what', 'has', 'back', 'thence', 'move', 'beyond', 'without', 'sincere', 'sometime', 'besides', 'them', 'myself', 'were', 'forty', 'upon', 'enough', 'herein', 'these', 'cant', 'out', 'your', 'whom', 'when', 'rather', 'already', 'third', 'whoever', 'amongst', 'there', 'ours', 'top', 'keep', 'although', 'here', 'side', 'another', 'ever', 'his', 'several', 'except', 'thereafter', 'whither', 'therein', 'via', 'and', 'he', 'please', 'anyhow', 'seemed', 'now', 'latter', 'find', 'first', 'mine', 'sometimes', 'same', 'whereafter', 'front', 'the', 'will', 'around', 'where', 'on', 'us', 'could', 'yourself', 'still', 'detail', 'because', 'thereby', 'nothing', 'perhaps', 'most', 'its', 'describe', 'show', 'through', 'thick', 'every', 'we', 'due', 'beforehand', 'after', 'anyway', 'name', 'himself', 'therefore', 'also', 'whereby', 'from', 'twelve', 'above', 're', 'eight', 'are', 'serious', 'former', 'yourselves', 'nine', 'bottom', 'inc', 'this', 'their', 'under', 'until', 'becomes', 'how', 'might', 'whereupon', 'by', 'amount', 'she', 'but', 'empty', 'throughout', 'four', 'ltd', 'fill', 'have', 'or', 'hereupon', 'if', 'that', 'no', 'our', 'wherever', 'sixty', 'hereafter', 'elsewhere', 'being', 'thru', 'least', 'none', 'neither', 'between', 'other', 'everywhere', 'co', 'hereby', 'become', 'than', 'was', 'can', 'further', 'for', 'towards', 'etc', 'everything', 'they', 'since', 'over', 'whereas', 'who', 'else', 'which', 'cannot', 'either', 'de', 'never', 'everyone', 'take', 'anything', 'during', 'toward', 'i'})\n"
      ],
      "metadata": {
        "id": "AjicoFh68JGz"
      }
    },
    {
      "cell_type": "code",
      "source": [
        "\n",
        "print(len(ENGLISH_STOP_WORDS))"
      ],
      "metadata": {
        "id": "i8jL_5vhN-dD",
        "colab": {
          "base_uri": "https://localhost:8080/"
        },
        "outputId": "2b86d0ad-278e-4a21-e6b6-eb93f8d88cc9"
      },
      "execution_count": null,
      "outputs": [
        {
          "output_type": "stream",
          "name": "stdout",
          "text": [
            "318\n"
          ]
        }
      ]
    },
    {
      "cell_type": "code",
      "source": [
        "words = [word for word in text2.split() if word.lower() not in ENGLISH_STOP_WORDS]\n",
        "new_text = \" \".join(words)\n",
        "print(new_text)\n",
        "print(\"Old length: \", len(text2))\n",
        "print(\"New length: \", len(new_text))"
      ],
      "metadata": {
        "id": "4hxMHBSnOHPt",
        "colab": {
          "base_uri": "https://localhost:8080/"
        },
        "outputId": "40bbf933-2ea8-404f-9329-98387c8b7fc2"
      },
      "execution_count": null,
      "outputs": [
        {
          "output_type": "stream",
          "name": "stdout",
          "text": [
            "Here's crazy ones, misfits, rebels, troublemakers, round pegs square holes.\n",
            "Old length:  105\n",
            "New length:  75\n"
          ]
        }
      ]
    },
    {
      "cell_type": "code",
      "source": [],
      "metadata": {
        "id": "UTan84n8ONCk"
      },
      "execution_count": null,
      "outputs": []
    },
    {
      "cell_type": "markdown",
      "source": [
        "## Adding custom Stop Words"
      ],
      "metadata": {
        "id": "oiry74pEOXu7"
      }
    },
    {
      "cell_type": "markdown",
      "source": [
        "You can also add custom stop words to the list of stop words available in these libraries to serve our purpose.\n",
        "\n",
        "Here is the code to add some custom stop words to NLTK’s stop words list:"
      ],
      "metadata": {
        "id": "PK1ZqNWYOUxw"
      }
    },
    {
      "cell_type": "code",
      "source": [
        "sw_nltk.extend(['first', 'second', 'third', 'me'])\n",
        "print(len(sw_nltk))"
      ],
      "metadata": {
        "id": "_KCRhgifOWmF",
        "colab": {
          "base_uri": "https://localhost:8080/"
        },
        "outputId": "398a8ed5-0d62-4e83-abce-712bae418268"
      },
      "execution_count": null,
      "outputs": [
        {
          "output_type": "stream",
          "name": "stdout",
          "text": [
            "183\n"
          ]
        }
      ]
    },
    {
      "cell_type": "markdown",
      "source": [
        "##Removing Stop Words"
      ],
      "metadata": {
        "id": "w2Y8Ova2OsDs"
      }
    },
    {
      "cell_type": "markdown",
      "source": [
        "You can also remove stop words from the list available in these libraries.\n",
        "\n",
        "Here is the code using the NLTK library:"
      ],
      "metadata": {
        "id": "rZ5RjAc2Ophx"
      }
    },
    {
      "cell_type": "code",
      "source": [
        "\n",
        "sw_nltk.remove('not')\n",
        "print(len(sw_nltk))"
      ],
      "metadata": {
        "id": "_1UdorNtOgEW",
        "colab": {
          "base_uri": "https://localhost:8080/"
        },
        "outputId": "17737c6a-a79a-4ada-bea8-4c8d7866c577"
      },
      "execution_count": null,
      "outputs": [
        {
          "output_type": "stream",
          "name": "stdout",
          "text": [
            "182\n"
          ]
        }
      ]
    },
    {
      "cell_type": "code",
      "source": [],
      "metadata": {
        "id": "FuBLmQ52OzOs"
      },
      "execution_count": null,
      "outputs": []
    },
    {
      "cell_type": "markdown",
      "source": [
        "##Create Custom Stop Words"
      ],
      "metadata": {
        "id": "K75CDeUuPQzg"
      }
    },
    {
      "cell_type": "code",
      "source": [
        "\n",
        "text2 = \"Here's to the crazy ones, the misfits, the rebels, the troublemakers, the round pegs in the square holes.\""
      ],
      "metadata": {
        "id": "uBwj5TaG9QWe"
      },
      "execution_count": null,
      "outputs": []
    },
    {
      "cell_type": "code",
      "source": [
        "#create your custom stop words list\n",
        "my_stop_words = ['to','the','in']\n",
        "words = [word for word in text2.split() if word.lower() not in my_stop_words]\n",
        "new_text = \" \".join(words)\n",
        "print(new_text)\n",
        "print(\"Old length: \", len(text2))\n",
        "print(\"New length: \", len(new_text))"
      ],
      "metadata": {
        "id": "iD-JVtgAPUAy",
        "colab": {
          "base_uri": "https://localhost:8080/"
        },
        "outputId": "f90d5ec8-a895-44c0-b041-787c006d3e0c"
      },
      "execution_count": null,
      "outputs": [
        {
          "output_type": "stream",
          "name": "stdout",
          "text": [
            "Here's crazy ones, misfits, rebels, troublemakers, round pegs square holes.\n",
            "Old length:  105\n",
            "New length:  75\n"
          ]
        }
      ]
    },
    {
      "cell_type": "code",
      "source": [],
      "metadata": {
        "id": "IpO-BbcrPWz4"
      },
      "execution_count": null,
      "outputs": []
    }
  ]
}